{
 "cells": [
  {
   "cell_type": "markdown",
   "id": "d4eda534",
   "metadata": {},
   "source": [
    "# Introduction to ROOT & Documentation in Jupyter\n",
    "## Weekly Report - 1st week, by Gabriel\n",
    "\n",
    "This week the goal was to make Jupyter (Python friendly environment) read and plot a ROOT macros (C++ based). We will use this data to fit a gaussian and visualize it.\n",
    "1. Let's start by seting up ROOT:"
   ]
  },
  {
   "cell_type": "code",
   "execution_count": 1,
   "id": "cea375c2",
   "metadata": {},
   "outputs": [
    {
     "name": "stdout",
     "output_type": "stream",
     "text": [
      "/workspaces/scientific-docker-tools\n",
      "['README.md', '.git', '.gitignore', 'start.sh', 'workspace', 'Untitled.ipynb', '.ipynb_checkpoints', 'docker-compose.yml', '.vscode', 'tools']\n"
     ]
    }
   ],
   "source": [
    "import os\n",
    "print(os.getcwd())\n",
    "print(os.listdir('.'))"
   ]
  },
  {
   "cell_type": "code",
   "execution_count": 2,
   "id": "e4bf18a2",
   "metadata": {},
   "outputs": [
    {
     "ename": "ModuleNotFoundError",
     "evalue": "No module named 'ROOT'",
     "output_type": "error",
     "traceback": [
      "\u001b[31m---------------------------------------------------------------------------\u001b[39m",
      "\u001b[31mModuleNotFoundError\u001b[39m                       Traceback (most recent call last)",
      "\u001b[36mCell\u001b[39m\u001b[36m \u001b[39m\u001b[32mIn[2]\u001b[39m\u001b[32m, line 3\u001b[39m\n\u001b[32m      1\u001b[39m \u001b[38;5;66;03m# 1. ROOT SETUP\u001b[39;00m\n\u001b[32m----> \u001b[39m\u001b[32m3\u001b[39m \u001b[38;5;28;01mimport\u001b[39;00m\u001b[38;5;250m \u001b[39m\u001b[34;01mROOT\u001b[39;00m\n\u001b[32m      4\u001b[39m \u001b[38;5;28;01mfrom\u001b[39;00m\u001b[38;5;250m \u001b[39m\u001b[34;01mROOT\u001b[39;00m\u001b[38;5;250m \u001b[39m\u001b[38;5;28;01mimport\u001b[39;00m TCanvas, TH1F, TF1, gStyle\n",
      "\u001b[31mModuleNotFoundError\u001b[39m: No module named 'ROOT'"
     ]
    }
   ],
   "source": [
    "# 1. ROOT SETUP\n",
    "\n",
    "import ROOT\n",
    "from ROOT import TCanvas, TH1F, TF1, gStyle"
   ]
  },
  {
   "cell_type": "markdown",
   "id": "9b2c5404",
   "metadata": {},
   "source": [
    "2. Load your macro and plot observables"
   ]
  },
  {
   "cell_type": "code",
   "execution_count": 3,
   "id": "1632c25d",
   "metadata": {},
   "outputs": [
    {
     "data": {
      "image/png": "[encoded data removed]",
      "text/plain": [
       "<IPython.core.display.Image object>"
      ]
     },
     "execution_count": 3,
     "metadata": {},
     "output_type": "execute_result"
    },
    {
     "name": "stderr",
     "output_type": "stream",
     "text": [
      "Info in <TCanvas::MakeDefCanvas>:  created default TCanvas with name c1\n",
      "Info in <TCanvas::Print>: png file plot.png has been created\n"
     ]
    }
   ],
   "source": [
    "# run your macro\n",
    "ROOT.gROOT.ProcessLine('.x example.C')\n",
    "\n",
    "# grab the current canvas\n",
    "c = ROOT.gPad.GetCanvas()\n",
    "c.SaveAs(\"plot.png\")\n",
    "\n",
    "# display in Jupyter\n",
    "from IPython.display import Image\n",
    "Image(\"plot.png\")"
   ]
  },
  {
   "cell_type": "markdown",
   "id": "59824e62",
   "metadata": {},
   "source": [
    "3. Load your macro and call it's function (title of file)."
   ]
  },
  {
   "cell_type": "code",
   "execution_count": 4,
   "id": "77eedc46",
   "metadata": {},
   "outputs": [
    {
     "name": "stdout",
     "output_type": "stream",
     "text": [
      "Entries: 10000.0\n",
      "Mean: 0.008311320084037836\n"
     ]
    }
   ],
   "source": [
    "h1 = ROOT.gDirectory.Get(\"h\")\n",
    "print(\"Entries:\", h1.GetEntries())\n",
    "print(\"Mean:\", h1.GetMean())"
   ]
  },
  {
   "cell_type": "markdown",
   "id": "8a74a866",
   "metadata": {},
   "source": [
    "4. Define Gaussian (explicitly or call it's function) perform fit and draw."
   ]
  },
  {
   "cell_type": "code",
   "execution_count": 6,
   "id": "8fae3ae4",
   "metadata": {},
   "outputs": [
    {
     "data": {
      "text/plain": [
       "<cppyy.gbl.TFitResultPtr object at 0x583f4c1c32a0>"
      ]
     },
     "execution_count": 6,
     "metadata": {},
     "output_type": "execute_result"
    },
    {
     "name": "stdout",
     "output_type": "stream",
     "text": [
      "****************************************\n",
      "Minimizer is Minuit2 / Migrad\n",
      "Chi2                      =      87.3387\n",
      "NDf                       =           82\n",
      "Edm                       =  1.42505e-06\n",
      "NCalls                    =           53\n",
      "Constant                  =      321.175   +/-   3.91347     \n",
      "Mean                      =  -0.00792159   +/-   0.00997018  \n",
      "Sigma                     =     0.986222   +/-   0.00689133   \t (limited)\n"
     ]
    }
   ],
   "source": [
    "# Define a Gaussian function over the histogram range\n",
    "gaus = ROOT.TF1(\"gaus\", \"gaus\", -4, 4)\n",
    "# Fit histogram with Gaussian\n",
    "h1.Fit(gaus, \"s\")  # \"R\" = restrict to given range"
   ]
  },
  {
   "cell_type": "code",
   "execution_count": 7,
   "id": "4d9a548f",
   "metadata": {},
   "outputs": [
    {
     "data": {
      "image/png": "[encoded data removed]",
      "text/plain": [
       "<IPython.core.display.Image object>"
      ]
     },
     "execution_count": 7,
     "metadata": {},
     "output_type": "execute_result"
    },
    {
     "name": "stderr",
     "output_type": "stream",
     "text": [
      "Info in <TCanvas::Print>: png file plotfit.png has been created\n"
     ]
    }
   ],
   "source": [
    "# Draw\n",
    "c = ROOT.TCanvas()\n",
    "\n",
    "# Draw histogram with a fill color\n",
    "h1.SetLineColor(ROOT.kBlue+1)\n",
    "h1.SetLineWidth(2)\n",
    "h1.Draw(\"E\")   # \"E\" draws error bars\n",
    "\n",
    "# Style the Gaussian fit\n",
    "gaus.SetLineColor(ROOT.kRed)\n",
    "gaus.SetLineWidth(3)\n",
    "gaus.Draw(\"same\")\n",
    "#Draw canvas\n",
    "#c.Draw()\n",
    "#Save\n",
    "\n",
    "# grab the current canvas\n",
    "c = ROOT.gPad.GetCanvas()\n",
    "c.SaveAs(\"plotfit.png\")\n",
    "\n",
    "# display in Jupyter\n",
    "from IPython.display import Image\n",
    "Image(\"plotfit.png\")"
   ]
  },
  {
   "cell_type": "markdown",
   "id": "75a8eb0d",
   "metadata": {},
   "source": [
    "# Gaussian Fit Exercise\n",
    "\n",
    "We generated random numbers following a Gaussian distribution \n",
    "with mean **0** and sigma **1**.  \n",
    "The histogram shows the data, and the red curve is a Gaussian fit.\n",
    "\n",
    "---\n",
    "\n",
    "### Questions\n",
    "\n",
    "1. What is the mean value obtained from the fit?  \n",
    "   - Compare it with the expected mean (0).  \n",
    "\n",
    "2. What is the sigma (standard deviation) obtained from the fit?  \n",
    "   - Compare it with the expected sigma (1).  \n",
    "\n",
    "3. Does the fitted Gaussian describe the data well?  \n",
    "   - Look at the shape of the curve vs. the histogram.  \n",
    "\n",
    "4. How would the result change if we generated more entries?  \n",
    "   - Would the error on the fit parameters increase or decrease?  \n",
    "\n",
    "---\n"
   ]
  },
  {
   "cell_type": "code",
   "execution_count": 8,
   "id": "f12aafab",
   "metadata": {},
   "outputs": [
    {
     "name": "stdout",
     "output_type": "stream",
     "text": [
      "Mean: -0.007921594946225971\n",
      "Sigma: 0.9862218428292222\n"
     ]
    }
   ],
   "source": [
    "# Show results and compare (...)\n",
    "print(\"Mean:\", gaus.GetParameter(1))\n",
    "print(\"Sigma:\", gaus.GetParameter(2))"
   ]
  },
  {
   "cell_type": "markdown",
   "id": "5d0f83eb",
   "metadata": {},
   "source": [
    "### Conclusions\n",
    "\n",
    "- The fit parameters are close to the expected values? \n",
    "- With more statistics, the uncertainties become smaller.  \n",
    "- ROOT + Jupyter allows us to **document results**,  \n",
    "  including both the code and the interpretation.  "
   ]
  }
 ],
 "metadata": {
  "kernelspec": {
   "display_name": "Python 3 (ipykernel)",
   "language": "python",
   "name": "python3"
  }
 },
 "nbformat": 4,
 "nbformat_minor": 5
}
