{
 "cells": [
  {
   "cell_type": "markdown",
   "id": "d4eda534",
   "metadata": {},
   "source": [
    "# Introduction to ROOT & Documentation in Jupyter\n",
    "## Weekly Report - 1st week, by Gabriel\n",
    "\n",
    "This week the goal was to make Jupyter (Python friendly environment) read and plot a ROOT macros (C++ based). We will use this data to fit a gaussian and visualize it.\n",
    "1. Let's start by seting up ROOT:"
   ]
  },
  {
   "cell_type": "code",
   "execution_count": 1,
   "id": "e4bf18a2",
   "metadata": {},
   "outputs": [],
   "source": [
    "# 1. ROOT SETUP\n",
    "\n",
    "import ROOT\n",
    "from ROOT import TCanvas, TH1F, TF1, gStyle"
   ]
  },
  {
   "cell_type": "markdown",
   "id": "9b2c5404",
   "metadata": {},
   "source": [
    "2. Load your macro and plot observables"
   ]
  },
  {
   "cell_type": "code",
   "execution_count": 4,
   "id": "1632c25d",
   "metadata": {},
   "outputs": [
    {
     "data": {
      "image/png": "[encoded data removed]",
      "text/plain": [
       "<IPython.core.display.Image object>"
      ]
     },
     "execution_count": 4,
     "metadata": {},
     "output_type": "execute_result"
    },
    {
     "name": "stderr",
     "output_type": "stream",
     "text": [
      "Warning in <TROOT::Append>: Replacing existing TH1: h (Potential memory leak).\n",
      "Info in <TCanvas::Print>: png file plot.png has been created\n"
     ]
    }
   ],
   "source": [
    "# run your macro\n",
    "ROOT.gROOT.ProcessLine('.x example.C')\n",
    "\n",
    "# grab the current canvas\n",
    "c = ROOT.gPad.GetCanvas()\n",
    "c.SaveAs(\"plot.png\")\n",
    "\n",
    "# display in Jupyter\n",
    "from IPython.display import Image\n",
    "Image(\"plot.png\")"
   ]
  },
  {
   "cell_type": "markdown",
   "id": "59824e62",
   "metadata": {},
   "source": [
    "3. Load your macro and call it's function (title of file)."
   ]
  },
  {
   "cell_type": "code",
   "execution_count": 6,
   "id": "77eedc46",
   "metadata": {},
   "outputs": [
    {
     "name": "stdout",
     "output_type": "stream",
     "text": [
      "Entries: 10000.0\n",
      "Mean: -0.003512854234856602\n"
     ]
    }
   ],
   "source": [
    "h1 = ROOT.gDirectory.Get(\"h\")\n",
    "print(\"Entries:\", h1.GetEntries())\n",
    "print(\"Mean:\", h1.GetMean())"
   ]
  },
  {
   "cell_type": "markdown",
   "id": "8a74a866",
   "metadata": {},
   "source": [
    "4. Define Gaussian (explicitly or call it's function) perform fit and draw."
   ]
  },
  {
   "cell_type": "code",
   "execution_count": 7,
   "id": "8fae3ae4",
   "metadata": {},
   "outputs": [
    {
     "data": {
      "text/plain": [
       "<cppyy.gbl.TFitResultPtr object at 0x55b4faef5d20>"
      ]
     },
     "execution_count": 7,
     "metadata": {},
     "output_type": "execute_result"
    },
    {
     "name": "stdout",
     "output_type": "stream",
     "text": [
      "****************************************\n",
      "Minimizer is Minuit2 / Migrad\n",
      "Chi2                      =        71.15\n",
      "NDf                       =           84\n",
      "Edm                       =  3.13383e-07\n",
      "NCalls                    =           55\n",
      "Constant                  =      319.587   +/-   3.92696     \n",
      "Mean                      =  -0.00481863   +/-   0.0100074   \n",
      "Sigma                     =     0.992265   +/-   0.00709299   \t (limited)\n"
     ]
    }
   ],
   "source": [
    "# Define a Gaussian function over the histogram range\n",
    "gaus = ROOT.TF1(\"gaus\", \"gaus\", -4, 4)\n",
    "# Fit histogram with Gaussian\n",
    "h1.Fit(gaus, \"s\")  # \"R\" = restrict to given range"
   ]
  },
  {
   "cell_type": "code",
   "execution_count": 12,
   "id": "4d9a548f",
   "metadata": {},
   "outputs": [
    {
     "data": {
      "image/png": "[encoded data removed]",
      "text/plain": [
       "<IPython.core.display.Image object>"
      ]
     },
     "execution_count": 12,
     "metadata": {},
     "output_type": "execute_result"
    },
    {
     "name": "stderr",
     "output_type": "stream",
     "text": [
      "Info in <TCanvas::Print>: png file plotfit.png has been created\n"
     ]
    }
   ],
   "source": [
    "# Draw\n",
    "c = ROOT.TCanvas()\n",
    "\n",
    "# Draw histogram with a fill color\n",
    "h1.SetLineColor(ROOT.kBlue+1)\n",
    "h1.SetLineWidth(2)\n",
    "h1.Draw(\"E\")   # \"E\" draws error bars\n",
    "\n",
    "# Style the Gaussian fit\n",
    "gaus.SetLineColor(ROOT.kRed)\n",
    "gaus.SetLineWidth(3)\n",
    "gaus.Draw(\"same\")\n",
    "#Draw canvas\n",
    "#c.Draw()\n",
    "#Save\n",
    "\n",
    "# grab the current canvas\n",
    "c = ROOT.gPad.GetCanvas()\n",
    "c.SaveAs(\"plotfit.png\")\n",
    "\n",
    "# display in Jupyter\n",
    "from IPython.display import Image\n",
    "Image(\"plotfit.png\")"
   ]
  },
  {
   "cell_type": "markdown",
   "id": "75a8eb0d",
   "metadata": {},
   "source": [
    "# Gaussian Fit Exercise\n",
    "\n",
    "We generated random numbers following a Gaussian distribution \n",
    "with mean **0** and sigma **1**.  \n",
    "The histogram shows the data, and the red curve is a Gaussian fit.\n",
    "\n",
    "---\n",
    "\n",
    "### Questions\n",
    "\n",
    "1. What is the mean value obtained from the fit?  \n",
    "   - Compare it with the expected mean (0).  \n",
    "\n",
    "2. What is the sigma (standard deviation) obtained from the fit?  \n",
    "   - Compare it with the expected sigma (1).  \n",
    "\n",
    "3. Does the fitted Gaussian describe the data well?  \n",
    "   - Look at the shape of the curve vs. the histogram.  \n",
    "\n",
    "4. How would the result change if we generated more entries?  \n",
    "   - Would the error on the fit parameters increase or decrease?  \n",
    "\n",
    "---\n"
   ]
  },
  {
   "cell_type": "code",
   "execution_count": 9,
   "id": "f12aafab",
   "metadata": {},
   "outputs": [
    {
     "name": "stdout",
     "output_type": "stream",
     "text": [
      "Mean: -0.004818631265623609\n",
      "Sigma: 0.9922654365849939\n"
     ]
    }
   ],
   "source": [
    "# Show results and compare (...)\n",
    "print(\"Mean:\", gaus.GetParameter(1))\n",
    "print(\"Sigma:\", gaus.GetParameter(2))"
   ]
  },
  {
   "cell_type": "markdown",
   "id": "5d0f83eb",
   "metadata": {},
   "source": [
    "### Conclusions\n",
    "\n",
    "- The fit parameters are close to the expected values? \n",
    "- With more statistics, the uncertainties become smaller.  \n",
    "- ROOT + Jupyter allows us to **document results**,  \n",
    "  including both the code and the interpretation.  "
   ]
  }
 ],
 "metadata": {
  "kernelspec": {
   "display_name": "Python 3 (ipykernel)",
   "language": "python",
   "name": "python3"
  },
  "language_info": {
   "codemirror_mode": {
    "name": "ipython",
    "version": 3
   },
   "file_extension": ".py",
   "mimetype": "text/x-python",
   "name": "python",
   "nbconvert_exporter": "python",
   "pygments_lexer": "ipython3",
   "version": "3.10.12"
  }
 },
 "nbformat": 4,
 "nbformat_minor": 5
}
